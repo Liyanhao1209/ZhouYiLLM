{
 "cells": [
  {
   "metadata": {},
   "cell_type": "markdown",
   "source": [
    "# 获取源文件配置路径\n",
    "将所有需要进行分词的文件的根目录放置在json配置文件中\n",
    "\n",
    "获取所有根目录，根据里面的工作站文件，深搜地进行分词\n",
    "\n",
    "将所有失败的文件路径，保存到一个失败重试的文件目录中"
   ],
   "id": "214d029fc8822d7a"
  },
  {
   "metadata": {
    "ExecuteTime": {
     "end_time": "2024-05-14T10:16:23.659502Z",
     "start_time": "2024-05-14T10:16:23.639939Z"
    }
   },
   "cell_type": "code",
   "source": [
    "import json\n",
    "\n",
    "text_split_path = \"D:\\\\workSpace\\\\Scripts\\\\python_scripts\\\\text_split\\\\config\\\\textSplit.json\"\n",
    "with open(text_split_path,'r', encoding='utf-8') as f:\n",
    "    config = json.load(f)\n",
    "    \n",
    "fp = config['file_path']\n",
    "failed_root = config['failed_path']"
   ],
   "id": "6387aaf8fb19172a",
   "outputs": [],
   "execution_count": 1
  },
  {
   "metadata": {},
   "cell_type": "markdown",
   "source": [
    "## 深搜分词\n",
    "根据工作站文件递归分词"
   ],
   "id": "6d41422a0b33d797"
  },
  {
   "metadata": {
    "ExecuteTime": {
     "end_time": "2024-05-14T10:31:05.852869Z",
     "start_time": "2024-05-14T10:29:05.811659Z"
    }
   },
   "cell_type": "code",
   "source": [
    "from typing import List\n",
    "import os\n",
    "from docx import Document\n",
    "from textSplitter.chinese_recursive_text_splitter import ChineseRecursiveTextSplitter\n",
    "\n",
    "def read_docx(docx_path:str)->str:\n",
    "    # 初始化一个Document对象，读取docx文件\n",
    "    doc = Document(docx_path)\n",
    "\n",
    "    # 初始化一个空字符串来存储文档中的纯文本\n",
    "    full_text = []\n",
    "\n",
    "    # 遍历文档中的每个段落\n",
    "    for para in doc.paragraphs:\n",
    "        # 添加段落文本到full_text列表中\n",
    "        full_text.append(para.text)\n",
    "\n",
    "        # 将列表中的文本合并成一个字符串并返回\n",
    "    return '\\n'.join(full_text)\n",
    "\n",
    "\n",
    "def do_fail_rec(task):\n",
    "    with open(failed_root,'a+',encoding='utf-8') as file:\n",
    "        file.write(task+'\\n')\n",
    "\n",
    "\n",
    "def do_split(task:str)->List[str]:\n",
    "    try:\n",
    "        text = read_docx(task)\n",
    "        # 调分词器\n",
    "        t_splitter = ChineseRecursiveTextSplitter(\n",
    "            keep_separator=True,\n",
    "            is_separator_regex=True,\n",
    "            chunk_size=50,\n",
    "            chunk_overlap=0\n",
    "        )\n",
    "        \n",
    "        res = t_splitter.split_text(text)\n",
    "        return res\n",
    "    except Exception as e:\n",
    "        print(f'对{task}进行分词时出现错误:{e}')\n",
    "        do_fail_rec(task)\n",
    "    \n",
    "\n",
    "def do_save(target,res,task):\n",
    "    global i\n",
    "    try:\n",
    "        for i in range(len(res)):\n",
    "            target = os.path.join(target,task+f'_split{i}.txt')\n",
    "            with open(target,'w',encoding='utf-8') as tar:\n",
    "                tar.write(res[i])\n",
    "    except Exception as e:\n",
    "        print(f'保存{task}_{i}时出现错误:{e}')\n",
    "    \n",
    "\n",
    "def dfs_split(path:str, work_station:str, target:str):\n",
    "    # 获取工作站名称\n",
    "    ws = os.sep.join([path,work_station])\n",
    "    # 副本\n",
    "    ws_tmp = work_station.replace('.txt','.tmp')\n",
    "    ws_tmp = os.sep.join([path,ws_tmp])\n",
    "    # print(f'{ws}\\n{ws_tmp}')\n",
    "    \n",
    "    dfs = True\n",
    "    while dfs:\n",
    "        with open(ws,'r+',encoding='utf-8') as file, open(ws_tmp, 'a+',encoding='utf-8') as tmp:\n",
    "            lines = file.readlines()\n",
    "            \n",
    "            if len(lines) == 0:\n",
    "                dfs = False\n",
    "            \n",
    "            # 读取第一条任务\n",
    "            task = path+'\\\\'+lines[0].rstrip()\n",
    "            # 剩余任务写入副本\n",
    "            for i in range(1,len(lines)):\n",
    "                tmp.write(lines[i].rstrip()+'\\n')\n",
    "            print(f'正在处理任务:{task}')\n",
    "            \n",
    "            # 文件夹深搜\n",
    "            if os.path.isdir(task):\n",
    "                dfs_split(task,work_station,target)\n",
    "            else:\n",
    "                # 分词\n",
    "                res = do_split(task)\n",
    "                # 保存\n",
    "                do_save(target,res,task)\n",
    "    \n",
    "        if os.path.exists(ws):\n",
    "            os.remove(ws)\n",
    "        # 重命名副本覆盖工作站\n",
    "        os.rename(ws_tmp,ws)       "
   ],
   "id": "166d0564f1137c43",
   "outputs": [
    {
     "name": "stdout",
     "output_type": "stream",
     "text": [
      "正在处理任务:D:\\workSpace\\Scripts\\python_scripts\\text_split\\source_files\\《周易研究》2020-2023\\2020\n",
      "正在处理任务:D:\\workSpace\\Scripts\\python_scripts\\text_split\\source_files\\《周易研究》2020-2023\\2020\\202001\n",
      "正在处理任务:D:\\workSpace\\Scripts\\python_scripts\\text_split\\source_files\\《周易研究》2020-2023\\2020\\202001\\“心为太极”说在朱子学中的诠释_焦德明.docx\n"
     ]
    },
    {
     "ename": "KeyboardInterrupt",
     "evalue": "",
     "output_type": "error",
     "traceback": [
      "\u001B[1;31m---------------------------------------------------------------------------\u001B[0m",
      "\u001B[1;31mKeyboardInterrupt\u001B[0m                         Traceback (most recent call last)",
      "Cell \u001B[1;32mIn[12], line 99\u001B[0m\n\u001B[0;32m     97\u001B[0m target_paths \u001B[38;5;241m=\u001B[39m root[\u001B[38;5;124m'\u001B[39m\u001B[38;5;124mtarget_paths\u001B[39m\u001B[38;5;124m'\u001B[39m]\n\u001B[0;32m     98\u001B[0m \u001B[38;5;28;01mfor\u001B[39;00m i \u001B[38;5;129;01min\u001B[39;00m \u001B[38;5;28mrange\u001B[39m(\u001B[38;5;28mlen\u001B[39m(src_paths)):\n\u001B[1;32m---> 99\u001B[0m     \u001B[43mdfs_split\u001B[49m\u001B[43m(\u001B[49m\u001B[43msrc_paths\u001B[49m\u001B[43m[\u001B[49m\u001B[43mi\u001B[49m\u001B[43m]\u001B[49m\u001B[43m,\u001B[49m\u001B[43m \u001B[49m\u001B[43mwork_station\u001B[49m\u001B[43m,\u001B[49m\u001B[43m \u001B[49m\u001B[43mtarget_paths\u001B[49m\u001B[43m[\u001B[49m\u001B[43mi\u001B[49m\u001B[43m]\u001B[49m\u001B[43m)\u001B[49m\n",
      "Cell \u001B[1;32mIn[12], line 81\u001B[0m, in \u001B[0;36mdfs_split\u001B[1;34m(path, work_station, target)\u001B[0m\n\u001B[0;32m     79\u001B[0m \u001B[38;5;66;03m# 文件夹深搜\u001B[39;00m\n\u001B[0;32m     80\u001B[0m \u001B[38;5;28;01mif\u001B[39;00m os\u001B[38;5;241m.\u001B[39mpath\u001B[38;5;241m.\u001B[39misdir(task):\n\u001B[1;32m---> 81\u001B[0m     \u001B[43mdfs_split\u001B[49m\u001B[43m(\u001B[49m\u001B[43mtask\u001B[49m\u001B[43m,\u001B[49m\u001B[43mwork_station\u001B[49m\u001B[43m,\u001B[49m\u001B[43mtarget\u001B[49m\u001B[43m)\u001B[49m\n\u001B[0;32m     82\u001B[0m \u001B[38;5;28;01melse\u001B[39;00m:\n\u001B[0;32m     83\u001B[0m     \u001B[38;5;66;03m# 分词\u001B[39;00m\n\u001B[0;32m     84\u001B[0m     res \u001B[38;5;241m=\u001B[39m do_split(task)\n",
      "Cell \u001B[1;32mIn[12], line 81\u001B[0m, in \u001B[0;36mdfs_split\u001B[1;34m(path, work_station, target)\u001B[0m\n\u001B[0;32m     79\u001B[0m \u001B[38;5;66;03m# 文件夹深搜\u001B[39;00m\n\u001B[0;32m     80\u001B[0m \u001B[38;5;28;01mif\u001B[39;00m os\u001B[38;5;241m.\u001B[39mpath\u001B[38;5;241m.\u001B[39misdir(task):\n\u001B[1;32m---> 81\u001B[0m     \u001B[43mdfs_split\u001B[49m\u001B[43m(\u001B[49m\u001B[43mtask\u001B[49m\u001B[43m,\u001B[49m\u001B[43mwork_station\u001B[49m\u001B[43m,\u001B[49m\u001B[43mtarget\u001B[49m\u001B[43m)\u001B[49m\n\u001B[0;32m     82\u001B[0m \u001B[38;5;28;01melse\u001B[39;00m:\n\u001B[0;32m     83\u001B[0m     \u001B[38;5;66;03m# 分词\u001B[39;00m\n\u001B[0;32m     84\u001B[0m     res \u001B[38;5;241m=\u001B[39m do_split(task)\n",
      "Cell \u001B[1;32mIn[12], line 86\u001B[0m, in \u001B[0;36mdfs_split\u001B[1;34m(path, work_station, target)\u001B[0m\n\u001B[0;32m     84\u001B[0m         res \u001B[38;5;241m=\u001B[39m do_split(task)\n\u001B[0;32m     85\u001B[0m         \u001B[38;5;66;03m# 保存\u001B[39;00m\n\u001B[1;32m---> 86\u001B[0m         \u001B[43mdo_save\u001B[49m\u001B[43m(\u001B[49m\u001B[43mtarget\u001B[49m\u001B[43m,\u001B[49m\u001B[43mres\u001B[49m\u001B[43m,\u001B[49m\u001B[43mtask\u001B[49m\u001B[43m)\u001B[49m\n\u001B[0;32m     88\u001B[0m \u001B[38;5;28;01mif\u001B[39;00m os\u001B[38;5;241m.\u001B[39mpath\u001B[38;5;241m.\u001B[39mexists(ws):\n\u001B[0;32m     89\u001B[0m     os\u001B[38;5;241m.\u001B[39mremove(ws)\n",
      "Cell \u001B[1;32mIn[12], line 47\u001B[0m, in \u001B[0;36mdo_save\u001B[1;34m(target, res, task)\u001B[0m\n\u001B[0;32m     45\u001B[0m \u001B[38;5;28;01mdef\u001B[39;00m \u001B[38;5;21mdo_save\u001B[39m(target,res,task):\n\u001B[0;32m     46\u001B[0m     \u001B[38;5;28;01mglobal\u001B[39;00m i\n\u001B[1;32m---> 47\u001B[0m     \u001B[38;5;28;01mtry\u001B[39;00m:\n\u001B[0;32m     48\u001B[0m         \u001B[38;5;28;01mfor\u001B[39;00m i \u001B[38;5;129;01min\u001B[39;00m \u001B[38;5;28mrange\u001B[39m(\u001B[38;5;28mlen\u001B[39m(res)):\n\u001B[0;32m     49\u001B[0m             target \u001B[38;5;241m=\u001B[39m os\u001B[38;5;241m.\u001B[39mpath\u001B[38;5;241m.\u001B[39mjoin(target,task\u001B[38;5;241m+\u001B[39m\u001B[38;5;124mf\u001B[39m\u001B[38;5;124m'\u001B[39m\u001B[38;5;124m_split\u001B[39m\u001B[38;5;132;01m{\u001B[39;00mi\u001B[38;5;132;01m}\u001B[39;00m\u001B[38;5;124m.txt\u001B[39m\u001B[38;5;124m'\u001B[39m)\n",
      "Cell \u001B[1;32mIn[12], line 47\u001B[0m, in \u001B[0;36mdo_save\u001B[1;34m(target, res, task)\u001B[0m\n\u001B[0;32m     45\u001B[0m \u001B[38;5;28;01mdef\u001B[39;00m \u001B[38;5;21mdo_save\u001B[39m(target,res,task):\n\u001B[0;32m     46\u001B[0m     \u001B[38;5;28;01mglobal\u001B[39;00m i\n\u001B[1;32m---> 47\u001B[0m     \u001B[38;5;28;01mtry\u001B[39;00m:\n\u001B[0;32m     48\u001B[0m         \u001B[38;5;28;01mfor\u001B[39;00m i \u001B[38;5;129;01min\u001B[39;00m \u001B[38;5;28mrange\u001B[39m(\u001B[38;5;28mlen\u001B[39m(res)):\n\u001B[0;32m     49\u001B[0m             target \u001B[38;5;241m=\u001B[39m os\u001B[38;5;241m.\u001B[39mpath\u001B[38;5;241m.\u001B[39mjoin(target,task\u001B[38;5;241m+\u001B[39m\u001B[38;5;124mf\u001B[39m\u001B[38;5;124m'\u001B[39m\u001B[38;5;124m_split\u001B[39m\u001B[38;5;132;01m{\u001B[39;00mi\u001B[38;5;132;01m}\u001B[39;00m\u001B[38;5;124m.txt\u001B[39m\u001B[38;5;124m'\u001B[39m)\n",
      "File \u001B[1;32m_pydevd_bundle\\\\pydevd_cython_win32_311_64.pyx:1187\u001B[0m, in \u001B[0;36m_pydevd_bundle.pydevd_cython_win32_311_64.SafeCallWrapper.__call__\u001B[1;34m()\u001B[0m\n",
      "File \u001B[1;32m_pydevd_bundle\\\\pydevd_cython_win32_311_64.pyx:627\u001B[0m, in \u001B[0;36m_pydevd_bundle.pydevd_cython_win32_311_64.PyDBFrame.trace_dispatch\u001B[1;34m()\u001B[0m\n",
      "File \u001B[1;32m_pydevd_bundle\\\\pydevd_cython_win32_311_64.pyx:1103\u001B[0m, in \u001B[0;36m_pydevd_bundle.pydevd_cython_win32_311_64.PyDBFrame.trace_dispatch\u001B[1;34m()\u001B[0m\n",
      "File \u001B[1;32m_pydevd_bundle\\\\pydevd_cython_win32_311_64.pyx:1061\u001B[0m, in \u001B[0;36m_pydevd_bundle.pydevd_cython_win32_311_64.PyDBFrame.trace_dispatch\u001B[1;34m()\u001B[0m\n",
      "File \u001B[1;32mD:\\Program Files (x86)\\JetBrainIDE\\Pycharm\\Pycharm-Professional\\PyCharm 2024.1\\plugins\\python\\helpers-pro\\jupyter_debug\\pydev_jupyter_plugin.py:169\u001B[0m, in \u001B[0;36mstop\u001B[1;34m(plugin, pydb, frame, event, args, stop_info, arg, step_cmd)\u001B[0m\n\u001B[0;32m    167\u001B[0m     frame \u001B[38;5;241m=\u001B[39m suspend_jupyter(main_debugger, thread, frame, step_cmd)\n\u001B[0;32m    168\u001B[0m     \u001B[38;5;28;01mif\u001B[39;00m frame:\n\u001B[1;32m--> 169\u001B[0m         \u001B[43mmain_debugger\u001B[49m\u001B[38;5;241;43m.\u001B[39;49m\u001B[43mdo_wait_suspend\u001B[49m\u001B[43m(\u001B[49m\u001B[43mthread\u001B[49m\u001B[43m,\u001B[49m\u001B[43m \u001B[49m\u001B[43mframe\u001B[49m\u001B[43m,\u001B[49m\u001B[43m \u001B[49m\u001B[43mevent\u001B[49m\u001B[43m,\u001B[49m\u001B[43m \u001B[49m\u001B[43marg\u001B[49m\u001B[43m)\u001B[49m\n\u001B[0;32m    170\u001B[0m         \u001B[38;5;28;01mreturn\u001B[39;00m \u001B[38;5;28;01mTrue\u001B[39;00m\n\u001B[0;32m    171\u001B[0m \u001B[38;5;28;01mreturn\u001B[39;00m \u001B[38;5;28;01mFalse\u001B[39;00m\n",
      "File \u001B[1;32mD:\\Program Files (x86)\\JetBrainIDE\\Pycharm\\Pycharm-Professional\\PyCharm 2024.1\\plugins\\python\\helpers\\pydev\\pydevd.py:1185\u001B[0m, in \u001B[0;36mPyDB.do_wait_suspend\u001B[1;34m(self, thread, frame, event, arg, send_suspend_message, is_unhandled_exception)\u001B[0m\n\u001B[0;32m   1182\u001B[0m         from_this_thread\u001B[38;5;241m.\u001B[39mappend(frame_id)\n\u001B[0;32m   1184\u001B[0m \u001B[38;5;28;01mwith\u001B[39;00m \u001B[38;5;28mself\u001B[39m\u001B[38;5;241m.\u001B[39m_threads_suspended_single_notification\u001B[38;5;241m.\u001B[39mnotify_thread_suspended(thread_id, stop_reason):\n\u001B[1;32m-> 1185\u001B[0m     \u001B[38;5;28;43mself\u001B[39;49m\u001B[38;5;241;43m.\u001B[39;49m\u001B[43m_do_wait_suspend\u001B[49m\u001B[43m(\u001B[49m\u001B[43mthread\u001B[49m\u001B[43m,\u001B[49m\u001B[43m \u001B[49m\u001B[43mframe\u001B[49m\u001B[43m,\u001B[49m\u001B[43m \u001B[49m\u001B[43mevent\u001B[49m\u001B[43m,\u001B[49m\u001B[43m \u001B[49m\u001B[43marg\u001B[49m\u001B[43m,\u001B[49m\u001B[43m \u001B[49m\u001B[43msuspend_type\u001B[49m\u001B[43m,\u001B[49m\u001B[43m \u001B[49m\u001B[43mfrom_this_thread\u001B[49m\u001B[43m)\u001B[49m\n",
      "File \u001B[1;32mD:\\Program Files (x86)\\JetBrainIDE\\Pycharm\\Pycharm-Professional\\PyCharm 2024.1\\plugins\\python\\helpers\\pydev\\pydevd.py:1200\u001B[0m, in \u001B[0;36mPyDB._do_wait_suspend\u001B[1;34m(self, thread, frame, event, arg, suspend_type, from_this_thread)\u001B[0m\n\u001B[0;32m   1197\u001B[0m             \u001B[38;5;28mself\u001B[39m\u001B[38;5;241m.\u001B[39m_call_mpl_hook()\n\u001B[0;32m   1199\u001B[0m         \u001B[38;5;28mself\u001B[39m\u001B[38;5;241m.\u001B[39mprocess_internal_commands()\n\u001B[1;32m-> 1200\u001B[0m         time\u001B[38;5;241m.\u001B[39msleep(\u001B[38;5;241m0.01\u001B[39m)\n\u001B[0;32m   1202\u001B[0m \u001B[38;5;28mself\u001B[39m\u001B[38;5;241m.\u001B[39mcancel_async_evaluation(get_current_thread_id(thread), \u001B[38;5;28mstr\u001B[39m(\u001B[38;5;28mid\u001B[39m(frame)))\n\u001B[0;32m   1204\u001B[0m \u001B[38;5;66;03m# process any stepping instructions\u001B[39;00m\n",
      "\u001B[1;31mKeyboardInterrupt\u001B[0m: "
     ]
    }
   ],
   "execution_count": 12
  },
  {
   "metadata": {},
   "cell_type": "markdown",
   "source": "对所有source file的文件根目录进行深搜、分词、保存",
   "id": "3d0684aae7a24bd4"
  },
  {
   "metadata": {
    "ExecuteTime": {
     "end_time": "2024-05-14T10:16:53.077Z",
     "start_time": "2024-05-14T10:16:46.660732Z"
    }
   },
   "cell_type": "code",
   "source": [
    "for root in fp.values():\n",
    "    work_station = root['WorkStation']\n",
    "    src_paths = root['src_paths']\n",
    "    target_paths = root['target_paths']\n",
    "    for i in range(len(src_paths)):\n",
    "        dfs_split(src_paths[i], work_station, target_paths[i])"
   ],
   "id": "b78d47db460b092a",
   "outputs": [
    {
     "ename": "KeyboardInterrupt",
     "evalue": "",
     "output_type": "error",
     "traceback": [
      "\u001B[1;31m---------------------------------------------------------------------------\u001B[0m",
      "\u001B[1;31mKeyboardInterrupt\u001B[0m                         Traceback (most recent call last)",
      "Cell \u001B[1;32mIn[4], line 6\u001B[0m\n\u001B[0;32m      4\u001B[0m target_paths \u001B[38;5;241m=\u001B[39m root[\u001B[38;5;124m'\u001B[39m\u001B[38;5;124mtarget_paths\u001B[39m\u001B[38;5;124m'\u001B[39m]\n\u001B[0;32m      5\u001B[0m \u001B[38;5;28;01mfor\u001B[39;00m i \u001B[38;5;129;01min\u001B[39;00m \u001B[38;5;28mrange\u001B[39m(\u001B[38;5;28mlen\u001B[39m(src_paths)):\n\u001B[1;32m----> 6\u001B[0m     \u001B[43mdfs_split\u001B[49m\u001B[43m(\u001B[49m\u001B[43msrc_paths\u001B[49m\u001B[43m[\u001B[49m\u001B[43mi\u001B[49m\u001B[43m]\u001B[49m\u001B[43m,\u001B[49m\u001B[43m \u001B[49m\u001B[43mwork_station\u001B[49m\u001B[43m,\u001B[49m\u001B[43m \u001B[49m\u001B[43mtarget_paths\u001B[49m\u001B[43m[\u001B[49m\u001B[43mi\u001B[49m\u001B[43m]\u001B[49m\u001B[43m)\u001B[49m\n",
      "Cell \u001B[1;32mIn[2], line 58\u001B[0m, in \u001B[0;36mdfs_split\u001B[1;34m(path, work_station, target)\u001B[0m\n\u001B[0;32m     56\u001B[0m \u001B[38;5;28;01mdef\u001B[39;00m \u001B[38;5;21mdfs_split\u001B[39m(path:\u001B[38;5;28mstr\u001B[39m, work_station:\u001B[38;5;28mstr\u001B[39m, target:\u001B[38;5;28mstr\u001B[39m):\n\u001B[0;32m     57\u001B[0m     \u001B[38;5;66;03m# 获取工作站名称\u001B[39;00m\n\u001B[1;32m---> 58\u001B[0m     ws \u001B[38;5;241m=\u001B[39m \u001B[43mos\u001B[49m\u001B[38;5;241m.\u001B[39msep\u001B[38;5;241m.\u001B[39mjoin([path,work_station])\n\u001B[0;32m     59\u001B[0m     \u001B[38;5;66;03m# 副本\u001B[39;00m\n\u001B[0;32m     60\u001B[0m     work_station \u001B[38;5;241m=\u001B[39m work_station\u001B[38;5;241m.\u001B[39mreplace(\u001B[38;5;124m'\u001B[39m\u001B[38;5;124m.txt\u001B[39m\u001B[38;5;124m'\u001B[39m,\u001B[38;5;124m'\u001B[39m\u001B[38;5;124m.tmp\u001B[39m\u001B[38;5;124m'\u001B[39m)\n",
      "Cell \u001B[1;32mIn[2], line 58\u001B[0m, in \u001B[0;36mdfs_split\u001B[1;34m(path, work_station, target)\u001B[0m\n\u001B[0;32m     56\u001B[0m \u001B[38;5;28;01mdef\u001B[39;00m \u001B[38;5;21mdfs_split\u001B[39m(path:\u001B[38;5;28mstr\u001B[39m, work_station:\u001B[38;5;28mstr\u001B[39m, target:\u001B[38;5;28mstr\u001B[39m):\n\u001B[0;32m     57\u001B[0m     \u001B[38;5;66;03m# 获取工作站名称\u001B[39;00m\n\u001B[1;32m---> 58\u001B[0m     ws \u001B[38;5;241m=\u001B[39m \u001B[43mos\u001B[49m\u001B[38;5;241m.\u001B[39msep\u001B[38;5;241m.\u001B[39mjoin([path,work_station])\n\u001B[0;32m     59\u001B[0m     \u001B[38;5;66;03m# 副本\u001B[39;00m\n\u001B[0;32m     60\u001B[0m     work_station \u001B[38;5;241m=\u001B[39m work_station\u001B[38;5;241m.\u001B[39mreplace(\u001B[38;5;124m'\u001B[39m\u001B[38;5;124m.txt\u001B[39m\u001B[38;5;124m'\u001B[39m,\u001B[38;5;124m'\u001B[39m\u001B[38;5;124m.tmp\u001B[39m\u001B[38;5;124m'\u001B[39m)\n",
      "File \u001B[1;32m_pydevd_bundle\\\\pydevd_cython_win32_311_64.pyx:1187\u001B[0m, in \u001B[0;36m_pydevd_bundle.pydevd_cython_win32_311_64.SafeCallWrapper.__call__\u001B[1;34m()\u001B[0m\n",
      "File \u001B[1;32m_pydevd_bundle\\\\pydevd_cython_win32_311_64.pyx:627\u001B[0m, in \u001B[0;36m_pydevd_bundle.pydevd_cython_win32_311_64.PyDBFrame.trace_dispatch\u001B[1;34m()\u001B[0m\n",
      "File \u001B[1;32m_pydevd_bundle\\\\pydevd_cython_win32_311_64.pyx:1103\u001B[0m, in \u001B[0;36m_pydevd_bundle.pydevd_cython_win32_311_64.PyDBFrame.trace_dispatch\u001B[1;34m()\u001B[0m\n",
      "File \u001B[1;32m_pydevd_bundle\\\\pydevd_cython_win32_311_64.pyx:1061\u001B[0m, in \u001B[0;36m_pydevd_bundle.pydevd_cython_win32_311_64.PyDBFrame.trace_dispatch\u001B[1;34m()\u001B[0m\n",
      "File \u001B[1;32mD:\\Program Files (x86)\\JetBrainIDE\\Pycharm\\Pycharm-Professional\\PyCharm 2024.1\\plugins\\python\\helpers-pro\\jupyter_debug\\pydev_jupyter_plugin.py:169\u001B[0m, in \u001B[0;36mstop\u001B[1;34m(plugin, pydb, frame, event, args, stop_info, arg, step_cmd)\u001B[0m\n\u001B[0;32m    167\u001B[0m     frame \u001B[38;5;241m=\u001B[39m suspend_jupyter(main_debugger, thread, frame, step_cmd)\n\u001B[0;32m    168\u001B[0m     \u001B[38;5;28;01mif\u001B[39;00m frame:\n\u001B[1;32m--> 169\u001B[0m         \u001B[43mmain_debugger\u001B[49m\u001B[38;5;241;43m.\u001B[39;49m\u001B[43mdo_wait_suspend\u001B[49m\u001B[43m(\u001B[49m\u001B[43mthread\u001B[49m\u001B[43m,\u001B[49m\u001B[43m \u001B[49m\u001B[43mframe\u001B[49m\u001B[43m,\u001B[49m\u001B[43m \u001B[49m\u001B[43mevent\u001B[49m\u001B[43m,\u001B[49m\u001B[43m \u001B[49m\u001B[43marg\u001B[49m\u001B[43m)\u001B[49m\n\u001B[0;32m    170\u001B[0m         \u001B[38;5;28;01mreturn\u001B[39;00m \u001B[38;5;28;01mTrue\u001B[39;00m\n\u001B[0;32m    171\u001B[0m \u001B[38;5;28;01mreturn\u001B[39;00m \u001B[38;5;28;01mFalse\u001B[39;00m\n",
      "File \u001B[1;32mD:\\Program Files (x86)\\JetBrainIDE\\Pycharm\\Pycharm-Professional\\PyCharm 2024.1\\plugins\\python\\helpers\\pydev\\pydevd.py:1185\u001B[0m, in \u001B[0;36mPyDB.do_wait_suspend\u001B[1;34m(self, thread, frame, event, arg, send_suspend_message, is_unhandled_exception)\u001B[0m\n\u001B[0;32m   1182\u001B[0m         from_this_thread\u001B[38;5;241m.\u001B[39mappend(frame_id)\n\u001B[0;32m   1184\u001B[0m \u001B[38;5;28;01mwith\u001B[39;00m \u001B[38;5;28mself\u001B[39m\u001B[38;5;241m.\u001B[39m_threads_suspended_single_notification\u001B[38;5;241m.\u001B[39mnotify_thread_suspended(thread_id, stop_reason):\n\u001B[1;32m-> 1185\u001B[0m     \u001B[38;5;28;43mself\u001B[39;49m\u001B[38;5;241;43m.\u001B[39;49m\u001B[43m_do_wait_suspend\u001B[49m\u001B[43m(\u001B[49m\u001B[43mthread\u001B[49m\u001B[43m,\u001B[49m\u001B[43m \u001B[49m\u001B[43mframe\u001B[49m\u001B[43m,\u001B[49m\u001B[43m \u001B[49m\u001B[43mevent\u001B[49m\u001B[43m,\u001B[49m\u001B[43m \u001B[49m\u001B[43marg\u001B[49m\u001B[43m,\u001B[49m\u001B[43m \u001B[49m\u001B[43msuspend_type\u001B[49m\u001B[43m,\u001B[49m\u001B[43m \u001B[49m\u001B[43mfrom_this_thread\u001B[49m\u001B[43m)\u001B[49m\n",
      "File \u001B[1;32mD:\\Program Files (x86)\\JetBrainIDE\\Pycharm\\Pycharm-Professional\\PyCharm 2024.1\\plugins\\python\\helpers\\pydev\\pydevd.py:1200\u001B[0m, in \u001B[0;36mPyDB._do_wait_suspend\u001B[1;34m(self, thread, frame, event, arg, suspend_type, from_this_thread)\u001B[0m\n\u001B[0;32m   1197\u001B[0m             \u001B[38;5;28mself\u001B[39m\u001B[38;5;241m.\u001B[39m_call_mpl_hook()\n\u001B[0;32m   1199\u001B[0m         \u001B[38;5;28mself\u001B[39m\u001B[38;5;241m.\u001B[39mprocess_internal_commands()\n\u001B[1;32m-> 1200\u001B[0m         \u001B[43mtime\u001B[49m\u001B[38;5;241;43m.\u001B[39;49m\u001B[43msleep\u001B[49m\u001B[43m(\u001B[49m\u001B[38;5;241;43m0.01\u001B[39;49m\u001B[43m)\u001B[49m\n\u001B[0;32m   1202\u001B[0m \u001B[38;5;28mself\u001B[39m\u001B[38;5;241m.\u001B[39mcancel_async_evaluation(get_current_thread_id(thread), \u001B[38;5;28mstr\u001B[39m(\u001B[38;5;28mid\u001B[39m(frame)))\n\u001B[0;32m   1204\u001B[0m \u001B[38;5;66;03m# process any stepping instructions\u001B[39;00m\n",
      "\u001B[1;31mKeyboardInterrupt\u001B[0m: "
     ]
    }
   ],
   "execution_count": 4
  }
 ],
 "metadata": {
  "kernelspec": {
   "display_name": "Python 3",
   "language": "python",
   "name": "python3"
  },
  "language_info": {
   "codemirror_mode": {
    "name": "ipython",
    "version": 2
   },
   "file_extension": ".py",
   "mimetype": "text/x-python",
   "name": "python",
   "nbconvert_exporter": "python",
   "pygments_lexer": "ipython2",
   "version": "2.7.6"
  }
 },
 "nbformat": 4,
 "nbformat_minor": 5
}
