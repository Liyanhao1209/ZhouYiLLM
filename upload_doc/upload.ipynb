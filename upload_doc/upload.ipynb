{
 "cells": [
  {
   "cell_type": "markdown",
   "source": [
    "# 获取配置参数\n",
    "分块大小、重叠长度、中文标题增强\n",
    "\n",
    "源文件路径、接口路径"
   ],
   "metadata": {
    "collapsed": false
   },
   "id": "d604b234943f7246"
  },
  {
   "cell_type": "code",
   "execution_count": null,
   "outputs": [],
   "source": [
    "import json\n",
    "import os\n",
    "\n",
    "upload_doc_path = \"D:\\\\work_place\\\\Scripts\\\\python_scripts\\\\upload_doc\\\\config\\\\uploadDoc.json\"\n",
    "\n",
    "with open(upload_doc_path, 'r', encoding='utf-8') as f:\n",
    "    config = json.load(f)\n",
    "    \n",
    "fp = config[\"file_path\"]\n",
    "failed_root = config[\"failed_path\"]\n",
    "\n",
    "split_args = config['split_args']\n",
    "chunk = int(split_args['chunk_size'])\n",
    "overlap = int(split_args['overlap_size'])\n",
    "zh_title_enhance = bool(split_args[\"zh_title_enhance\"])\n",
    "knowledge_base_name = split_args[\"knowledge_base_name\"]\n",
    "override = bool(split_args[\"override\"])\n",
    "to_vector_store = bool(split_args[\"to_vector_store\"])"
   ],
   "metadata": {
    "collapsed": false
   },
   "id": "ecd9a892c364012d"
  },
  {
   "cell_type": "markdown",
   "source": [
    "# 准备参数表单\n",
    "接口需要的参数\n",
    "1. `files`: 上传的文件列表，支持多文件上传。\n",
    "2. `knowledge_base_name`: 知识库名称，指定要上传文件的目标知识库。\n",
    "3. `override`: 布尔值，指示是否覆盖已有文件。\n",
    "4. `to_vector_store`: 布尔值，指示上传文件后是否进行向量化处理。\n",
    "5. `chunk_size`: 知识库中单段文本的最大长度。\n",
    "6. `chunk_overlap`: 知识库中相邻文本的重合长度。\n",
    "7. `zh_title_enhance`: 布尔值，指示是否开启中文标题加强功能。\n",
    "8. `docs`: 自定义的docs，需转为json字符串格式。\n",
    "9. `not_refresh_vs_cache`: 布尔值，指示是否暂不保存向量库（用于FAISS）。"
   ],
   "metadata": {
    "collapsed": false
   },
   "id": "7d905060b902fbff"
  },
  {
   "cell_type": "code",
   "execution_count": null,
   "outputs": [],
   "source": [
    "import pydantic\n",
    "from typing import Any\n",
    "from pydantic import BaseModel\n",
    "import requests\n",
    "\n",
    "class BaseResponse(BaseModel):\n",
    "    code: int = pydantic.Field(200, description=\"API status code\")\n",
    "    msg: str = pydantic.Field(\"success\", description=\"API status message\")\n",
    "    data: Any = pydantic.Field(None, description=\"API data\")\n",
    "\n",
    "    class Config:\n",
    "        schema_extra = {\n",
    "            \"example\": {\n",
    "                \"code\": 200,\n",
    "                \"msg\": \"success\",\n",
    "            }\n",
    "        }\n",
    "\n",
    "def do_fail_rec(task):\n",
    "    with open(failed_root, 'a+', encoding='utf-8') as file:\n",
    "        file.write(task + '\\n')\n",
    "\n",
    "def request_api(file_path:str, url:str):\n",
    "    # 准备请求中的文件参数\n",
    "    with open(file_path, 'rb') as file:\n",
    "        file = (file_path, file)\n",
    "    \n",
    "    # 其他表单参数\n",
    "    form_data = {\n",
    "        'knowledge_base_name': knowledge_base_name,\n",
    "        'override': override,\n",
    "        'to_vector_store': to_vector_store,\n",
    "        'chunk_size': chunk,\n",
    "        'chunk_overlap': overlap,\n",
    "        'zh_title_enhance': zh_title_enhance,\n",
    "        'docs': None,\n",
    "        'not_refresh_vs_cache': 'False'\n",
    "    }\n",
    "    \n",
    "    # 发送POST请求\n",
    "    response = requests.post(url, files={'files': file}, data=form_data)\n",
    "    \n",
    "    # 检查响应\n",
    "    if response.ok:\n",
    "        response_data = response.json()\n",
    "        # 将响应数据转换为BaseResponse对象\n",
    "        base_response = BaseResponse(**response_data)\n",
    "        print(f\"任务{file_path}处理完毕。响应码: {base_response.code}, 响应消息: {base_response.msg}, 数据: {base_response.data}\")\n",
    "    else:\n",
    "        print(f\"任务{file_path}处理失败\")\n",
    "        do_fail_rec(file_path)"
   ],
   "metadata": {
    "collapsed": false
   },
   "id": "bad3752c224e9b14"
  },
  {
   "cell_type": "markdown",
   "source": [
    "# 上传文件\n",
    "遍历所有源文件，进行上传"
   ],
   "metadata": {
    "collapsed": false
   },
   "id": "52c8e95afa10e85b"
  },
  {
   "cell_type": "code",
   "execution_count": null,
   "outputs": [],
   "source": [
    "for root in fp.values():\n",
    "    src_paths = root['src_paths']\n",
    "    api_path = root['api_path']\n",
    "    \n",
    "    for i in range(len(src_paths)):\n",
    "        for fn in os.listdir(src_paths[i]):\n",
    "            request_api(os.path.join(src_paths[i],fn), api_path)"
   ],
   "metadata": {
    "collapsed": false
   },
   "id": "6b2c173b0b246f41"
  }
 ],
 "metadata": {
  "kernelspec": {
   "display_name": "Python 3",
   "language": "python",
   "name": "python3"
  },
  "language_info": {
   "codemirror_mode": {
    "name": "ipython",
    "version": 2
   },
   "file_extension": ".py",
   "mimetype": "text/x-python",
   "name": "python",
   "nbconvert_exporter": "python",
   "pygments_lexer": "ipython2",
   "version": "2.7.6"
  }
 },
 "nbformat": 4,
 "nbformat_minor": 5
}
